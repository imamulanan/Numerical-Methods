{
 "cells": [
  {
   "cell_type": "code",
   "execution_count": null,
   "id": "08c478c1",
   "metadata": {},
   "outputs": [
    {
     "name": "stdout",
     "output_type": "stream",
     "text": [
      "x =  1.9999999999999998\n",
      "y =  3.0000000000000004\n",
      "z =  -1.0000000000000004\n"
     ]
    }
   ],
   "source": [
    "import numpy as np  # numpy লাইব্রেরি ইমপোর্ট করা হচ্ছে\n",
    "\n",
    "# সমীকরণগুলোর ধ্রুবক সহগ (coefficients) ও ডান পাশের মান (constants) সহ মূল মেট্রিক্স\n",
    "arr = [\n",
    "    [2, 1, -1, 8],     # 2x + 1y – 1z = 8\n",
    "    [-3, -1, 2, -11],  # -3x – y + 2z = -11\n",
    "    [-2, 1, 2, -3]     # -2x + y + 2z = -3\n",
    "]\n",
    "\n",
    "# মেইন এরের তৈরি করা\n",
    "main_array = np.array(arr)\n",
    "\n",
    "# শুধু coefficient matrix (শেষ কলাম বাদ)\n",
    "D = np.array(main_array[:, :-1])\n",
    "\n",
    "# শুধু constants (শেষ কলাম)\n",
    "last_col = np.array(main_array[:, -1])\n",
    "\n",
    "# Cramer’s Rule অনুযায়ী D1 তৈরি করা হচ্ছে:\n",
    "# এখানে প্রথম কলামে constants বসানো হয়েছে, বাকি কলাম যেনোই ছিল ঠিক তেমনই আছে\n",
    "D1 = np.array([last_col, main_array[:,1], main_array[:,2]])\n",
    "\n",
    "# একইভাবে D2 → দ্বিতীয় কলামে constants বসবে\n",
    "D2 = np.array([main_array[:,0], last_col, main_array[:,2]])\n",
    "\n",
    "# একইভাবে D3 → তৃতীয় কলামে constants বসবে\n",
    "D3 = np.array([main_array[:,0], main_array[:,1], last_col])\n",
    "\n",
    "# মূল determinant ,ম্যাট্রিক্স D এর determinant (নির্ণায়ক) বের করা হচ্ছে।\n",
    "D_det = np.linalg.det(D)\n",
    "\n",
    "# D1, D2, D3 এর determinant বের করা হচ্ছে\n",
    "D1_det = np.linalg.det(D1)\n",
    "D2_det = np.linalg.det(D2)\n",
    "D3_det = np.linalg.det(D3)\n",
    "\n",
    "# x = D1_det / D_det, y = D2_det / D_det, z = D3_det / D_det\n",
    "print(\"x = \", D1_det / D_det)\n",
    "print(\"y = \", D2_det / D_det)\n",
    "print(\"z = \", D3_det / D_det)\n"
   ]
  },
  {
   "cell_type": "code",
   "execution_count": null,
   "id": "c25c7499",
   "metadata": {},
   "outputs": [],
   "source": []
  }
 ],
 "metadata": {
  "kernelspec": {
   "display_name": "base",
   "language": "python",
   "name": "python3"
  },
  "language_info": {
   "codemirror_mode": {
    "name": "ipython",
    "version": 3
   },
   "file_extension": ".py",
   "mimetype": "text/x-python",
   "name": "python",
   "nbconvert_exporter": "python",
   "pygments_lexer": "ipython3",
   "version": "3.13.5"
  }
 },
 "nbformat": 4,
 "nbformat_minor": 5
}
