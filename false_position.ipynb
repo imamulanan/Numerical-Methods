{
 "cells": [
  {
   "cell_type": "code",
   "execution_count": null,
   "id": "9f1fa02b",
   "metadata": {},
   "outputs": [],
   "source": [
    "import matplotlib.pyplot as plt\n",
    "import numpy as np\n",
    "\n",
    "def false_position_method(f, a, b, tol=1e-5):\n",
    "    if f(a) * f(b) >= 0:\n",
    "        raise ValueError(\"f(a) and f(b) must have opposite signs.\")\n",
    "\n",
    "    c = a - (f(a) * (b - a) / (f(b) - f(a)))\n",
    "\n",
    "    if abs(f(c)) < tol:\n",
    "        return c\n",
    "    elif f(a) * f(c) < 0:\n",
    "        return false_position_method(f, a, c, tol)\n",
    "    else:\n",
    "        return false_position_method(f, c, b, tol)\n",
    "\n",
    "# Simple function\n",
    "def f(x):\n",
    "  return x**2 - 2\n",
    "\n",
    "root = false_position_method(f, 0, 10)\n",
    "\n",
    "# Let's plot the result\n",
    "x = np.arange(0, 3, 0.1)\n",
    "print(x) # Print the values of x\n",
    "\n",
    "plt.plot(x, f(x))\n",
    "plt.axvline(root)\n",
    "\n",
    "plt.grid()\n",
    "plt.show()\n"
   ]
  }
 ],
 "metadata": {
  "kernelspec": {
   "display_name": "base",
   "language": "python",
   "name": "python3"
  },
  "language_info": {
   "name": "python",
   "version": "3.13.5"
  }
 },
 "nbformat": 4,
 "nbformat_minor": 5
}
